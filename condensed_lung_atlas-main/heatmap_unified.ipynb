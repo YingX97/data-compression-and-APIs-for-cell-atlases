{
 "cells": [
  {
   "cell_type": "code",
   "execution_count": 62,
   "id": "8edb2e4d",
   "metadata": {},
   "outputs": [],
   "source": [
    "import h5py\n",
    "import numpy as np\n",
    "import pandas as pd\n",
    "import scanpy as sc\n",
    "from scipy.cluster.hierarchy import linkage,leaves_list, dendrogram\n",
    "from scipy.spatial.distance import pdist, euclidean\n",
    "from scipy.special import comb\n",
    "import re\n",
    "import json "
   ]
  },
  {
   "cell_type": "code",
   "execution_count": 46,
   "id": "717f1625",
   "metadata": {},
   "outputs": [],
   "source": [
    "# gives the name of dataset we want as an input\n",
    "# celltype / celltype_dataset / celltype_dataset_timepoint\n",
    "def read_file(df_type):\n",
    "    with h5py.File('./output/condensed_lung_atlas_in_cpm.h5',\"r\") as h5_data:\n",
    "    \n",
    "        df = pd.DataFrame(\n",
    "                data=np.array(h5_data[df_type]['gene_expression_average']['block0_values']).astype(np.float32),\n",
    "                index=np.array(h5_data[df_type]['gene_expression_average']['axis1'].asstr()),\n",
    "                columns=np.array(h5_data[df_type]['gene_expression_average']['axis0'].asstr()),\n",
    "            ).T\n",
    "    return df"
   ]
  },
  {
   "cell_type": "code",
   "execution_count": 47,
   "id": "0f36dc34",
   "metadata": {},
   "outputs": [
    {
     "data": {
      "text/html": [
       "<div>\n",
       "<style scoped>\n",
       "    .dataframe tbody tr th:only-of-type {\n",
       "        vertical-align: middle;\n",
       "    }\n",
       "\n",
       "    .dataframe tbody tr th {\n",
       "        vertical-align: top;\n",
       "    }\n",
       "\n",
       "    .dataframe thead th {\n",
       "        text-align: right;\n",
       "    }\n",
       "</style>\n",
       "<table border=\"1\" class=\"dataframe\">\n",
       "  <thead>\n",
       "    <tr style=\"text-align: right;\">\n",
       "      <th></th>\n",
       "      <th>Adventitial fibroblast_ACZ_P21</th>\n",
       "      <th>Adventitial fibroblast_ACZ_P7</th>\n",
       "      <th>Adventitial fibroblast_Hurskainen2021_P14</th>\n",
       "      <th>Adventitial fibroblast_Hurskainen2021_P3</th>\n",
       "      <th>Adventitial fibroblast_Hurskainen2021_P7</th>\n",
       "      <th>Adventitial fibroblast_TMS_18m</th>\n",
       "      <th>Adventitial fibroblast_TMS_24m</th>\n",
       "      <th>Adventitial fibroblast_TMS_3m</th>\n",
       "      <th>Airway smooth muscle_ACZ_P21</th>\n",
       "      <th>Airway smooth muscle_Hurskainen2021_P14</th>\n",
       "      <th>...</th>\n",
       "      <th>neutrophil_ACZ_E18.5</th>\n",
       "      <th>neutrophil_ACZ_P1</th>\n",
       "      <th>neutrophil_ACZ_P21</th>\n",
       "      <th>neutrophil_ACZ_P7</th>\n",
       "      <th>neutrophil_Hurskainen2021_P14</th>\n",
       "      <th>neutrophil_Hurskainen2021_P3</th>\n",
       "      <th>neutrophil_Hurskainen2021_P7</th>\n",
       "      <th>neutrophil_TMS_18m</th>\n",
       "      <th>neutrophil_TMS_24m</th>\n",
       "      <th>neutrophil_TMS_3m</th>\n",
       "    </tr>\n",
       "  </thead>\n",
       "  <tbody>\n",
       "    <tr>\n",
       "      <th>Car4</th>\n",
       "      <td>0.015945</td>\n",
       "      <td>0.0</td>\n",
       "      <td>7.019531</td>\n",
       "      <td>6.179688</td>\n",
       "      <td>9.023438</td>\n",
       "      <td>2.792969</td>\n",
       "      <td>13.703125</td>\n",
       "      <td>4.105469</td>\n",
       "      <td>0.0</td>\n",
       "      <td>14.140625</td>\n",
       "      <td>...</td>\n",
       "      <td>0.0</td>\n",
       "      <td>6.242188</td>\n",
       "      <td>0.056</td>\n",
       "      <td>26.359375</td>\n",
       "      <td>39.53125</td>\n",
       "      <td>25.859375</td>\n",
       "      <td>5.808594</td>\n",
       "      <td>8.78125</td>\n",
       "      <td>0.0</td>\n",
       "      <td>27.359375</td>\n",
       "    </tr>\n",
       "  </tbody>\n",
       "</table>\n",
       "<p>1 rows × 308 columns</p>\n",
       "</div>"
      ],
      "text/plain": [
       "      Adventitial fibroblast_ACZ_P21  Adventitial fibroblast_ACZ_P7  \\\n",
       "Car4                        0.015945                            0.0   \n",
       "\n",
       "      Adventitial fibroblast_Hurskainen2021_P14  \\\n",
       "Car4                                   7.019531   \n",
       "\n",
       "      Adventitial fibroblast_Hurskainen2021_P3  \\\n",
       "Car4                                  6.179688   \n",
       "\n",
       "      Adventitial fibroblast_Hurskainen2021_P7  \\\n",
       "Car4                                  9.023438   \n",
       "\n",
       "      Adventitial fibroblast_TMS_18m  Adventitial fibroblast_TMS_24m  \\\n",
       "Car4                        2.792969                       13.703125   \n",
       "\n",
       "      Adventitial fibroblast_TMS_3m  Airway smooth muscle_ACZ_P21  \\\n",
       "Car4                       4.105469                           0.0   \n",
       "\n",
       "      Airway smooth muscle_Hurskainen2021_P14  ...  neutrophil_ACZ_E18.5  \\\n",
       "Car4                                14.140625  ...                   0.0   \n",
       "\n",
       "      neutrophil_ACZ_P1  neutrophil_ACZ_P21  neutrophil_ACZ_P7  \\\n",
       "Car4           6.242188               0.056          26.359375   \n",
       "\n",
       "      neutrophil_Hurskainen2021_P14  neutrophil_Hurskainen2021_P3  \\\n",
       "Car4                       39.53125                     25.859375   \n",
       "\n",
       "      neutrophil_Hurskainen2021_P7  neutrophil_TMS_18m  neutrophil_TMS_24m  \\\n",
       "Car4                      5.808594             8.78125                 0.0   \n",
       "\n",
       "      neutrophil_TMS_3m  \n",
       "Car4          27.359375  \n",
       "\n",
       "[1 rows x 308 columns]"
      ]
     },
     "execution_count": 47,
     "metadata": {},
     "output_type": "execute_result"
    }
   ],
   "source": [
    "df = read_file('celltype_dataset_timepoint')\n",
    "gene = 'Car4'\n",
    "filtered_df = df.filter(items=[gene],axis=0)\n",
    "filtered_df"
   ]
  },
  {
   "cell_type": "code",
   "execution_count": 7,
   "id": "203ec0e4",
   "metadata": {},
   "outputs": [],
   "source": [
    "all_celltypes = []\n",
    "dt_combinations = []  # dataset and timepoint combinations\n",
    "\n",
    "for column_name in filtered_df.columns:\n",
    "    celltype = column_name.split(\"_\")[0]\n",
    "    dataset_timepoint = column_name.split(celltype+\"_\")[1]\n",
    "    if celltype not in all_celltypes:\n",
    "        all_celltypes.append(celltype)\n",
    "    if dataset_timepoint not in dt_combinations:\n",
    "        dt_combinations.append(dataset_timepoint)"
   ]
  },
  {
   "cell_type": "code",
   "execution_count": 8,
   "id": "5da9b656",
   "metadata": {},
   "outputs": [
    {
     "data": {
      "text/plain": [
       "['ACZ_P21',\n",
       " 'ACZ_P7',\n",
       " 'Hurskainen2021_P14',\n",
       " 'Hurskainen2021_P3',\n",
       " 'Hurskainen2021_P7',\n",
       " 'TMS_18m',\n",
       " 'TMS_24m',\n",
       " 'TMS_3m',\n",
       " 'ACZ_E18.5',\n",
       " 'ACZ_P1']"
      ]
     },
     "execution_count": 8,
     "metadata": {},
     "output_type": "execute_result"
    }
   ],
   "source": [
    "all_celltypes\n",
    "dt_combinations"
   ]
  },
  {
   "cell_type": "code",
   "execution_count": 58,
   "id": "5fa667ae",
   "metadata": {},
   "outputs": [],
   "source": [
    "expression = {}\n",
    "for dt in dt_combinations:\n",
    "    expression[dt] = {}\n",
    "    for ct in all_celltypes:\n",
    "        name = \"_\".join([ct,dt])\n",
    "        if name not in filtered_df.columns:\n",
    "            exp_value = -1\n",
    "        else:\n",
    "            exp_value = filtered_df[name].values[0]\n",
    "        expression[dt][ct] = exp_value\n",
    "        "
   ]
  },
  {
   "cell_type": "code",
   "execution_count": 64,
   "id": "d81c807e",
   "metadata": {},
   "outputs": [
    {
     "ename": "TypeError",
     "evalue": "the JSON object must be str, bytes or bytearray, not dict",
     "output_type": "error",
     "traceback": [
      "\u001b[0;31m---------------------------------------------------------------------------\u001b[0m",
      "\u001b[0;31mTypeError\u001b[0m                                 Traceback (most recent call last)",
      "Input \u001b[0;32mIn [64]\u001b[0m, in \u001b[0;36m<cell line: 1>\u001b[0;34m()\u001b[0m\n\u001b[0;32m----> 1\u001b[0m \u001b[43mjson\u001b[49m\u001b[38;5;241;43m.\u001b[39;49m\u001b[43mloads\u001b[49m\u001b[43m(\u001b[49m\u001b[43mexpression\u001b[49m\u001b[43m)\u001b[49m\n",
      "File \u001b[0;32m/opt/anaconda3/lib/python3.8/json/__init__.py:341\u001b[0m, in \u001b[0;36mloads\u001b[0;34m(s, cls, object_hook, parse_float, parse_int, parse_constant, object_pairs_hook, **kw)\u001b[0m\n\u001b[1;32m    339\u001b[0m \u001b[38;5;28;01melse\u001b[39;00m:\n\u001b[1;32m    340\u001b[0m     \u001b[38;5;28;01mif\u001b[39;00m \u001b[38;5;129;01mnot\u001b[39;00m \u001b[38;5;28misinstance\u001b[39m(s, (\u001b[38;5;28mbytes\u001b[39m, \u001b[38;5;28mbytearray\u001b[39m)):\n\u001b[0;32m--> 341\u001b[0m         \u001b[38;5;28;01mraise\u001b[39;00m \u001b[38;5;167;01mTypeError\u001b[39;00m(\u001b[38;5;124mf\u001b[39m\u001b[38;5;124m'\u001b[39m\u001b[38;5;124mthe JSON object must be str, bytes or bytearray, \u001b[39m\u001b[38;5;124m'\u001b[39m\n\u001b[1;32m    342\u001b[0m                         \u001b[38;5;124mf\u001b[39m\u001b[38;5;124m'\u001b[39m\u001b[38;5;124mnot \u001b[39m\u001b[38;5;132;01m{\u001b[39;00ms\u001b[38;5;241m.\u001b[39m\u001b[38;5;18m__class__\u001b[39m\u001b[38;5;241m.\u001b[39m\u001b[38;5;18m__name__\u001b[39m\u001b[38;5;132;01m}\u001b[39;00m\u001b[38;5;124m'\u001b[39m)\n\u001b[1;32m    343\u001b[0m     s \u001b[38;5;241m=\u001b[39m s\u001b[38;5;241m.\u001b[39mdecode(detect_encoding(s), \u001b[38;5;124m'\u001b[39m\u001b[38;5;124msurrogatepass\u001b[39m\u001b[38;5;124m'\u001b[39m)\n\u001b[1;32m    345\u001b[0m \u001b[38;5;28;01mif\u001b[39;00m \u001b[38;5;124m\"\u001b[39m\u001b[38;5;124mencoding\u001b[39m\u001b[38;5;124m\"\u001b[39m \u001b[38;5;129;01min\u001b[39;00m kw:\n",
      "\u001b[0;31mTypeError\u001b[0m: the JSON object must be str, bytes or bytearray, not dict"
     ]
    }
   ],
   "source": [
    "json.loads(expression)"
   ]
  },
  {
   "cell_type": "code",
   "execution_count": null,
   "id": "84d22ee1",
   "metadata": {},
   "outputs": [],
   "source": []
  }
 ],
 "metadata": {
  "kernelspec": {
   "display_name": "Python 3",
   "language": "python",
   "name": "python3"
  },
  "language_info": {
   "codemirror_mode": {
    "name": "ipython",
    "version": 3
   },
   "file_extension": ".py",
   "mimetype": "text/x-python",
   "name": "python",
   "nbconvert_exporter": "python",
   "pygments_lexer": "ipython3",
   "version": "3.8.13"
  }
 },
 "nbformat": 4,
 "nbformat_minor": 5
}

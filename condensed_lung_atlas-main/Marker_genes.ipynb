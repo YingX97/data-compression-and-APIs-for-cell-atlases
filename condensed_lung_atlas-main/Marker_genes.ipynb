{
 "cells": [
  {
   "cell_type": "code",
   "execution_count": 1,
   "id": "cf38cbd0",
   "metadata": {},
   "outputs": [],
   "source": [
    "import h5py\n",
    "import numpy as np\n",
    "import pandas as pd\n",
    "import json\n",
    "import re\n",
    "import functools\n",
    "from scipy.cluster.hierarchy import linkage,leaves_list\n",
    "from scipy.spatial.distance import pdist\n",
    "import time\n",
    "import matplotlib.pyplot as plt\n",
    "\n",
    "with h5py.File('./output/condensed_lung_atlas_in_cpm.h5',\"r\") as h5_data:\n",
    "    L =list(np.array(h5_data['celltype']['gene_expression_average']['axis0'].asstr()))"
   ]
  },
  {
   "cell_type": "code",
   "execution_count": null,
   "id": "244d716a",
   "metadata": {},
   "outputs": [],
   "source": [
    "L"
   ]
  }
 ],
 "metadata": {
  "kernelspec": {
   "display_name": "Python 3",
   "language": "python",
   "name": "python3"
  },
  "language_info": {
   "codemirror_mode": {
    "name": "ipython",
    "version": 3
   },
   "file_extension": ".py",
   "mimetype": "text/x-python",
   "name": "python",
   "nbconvert_exporter": "python",
   "pygments_lexer": "ipython3",
   "version": "3.8.13"
  }
 },
 "nbformat": 4,
 "nbformat_minor": 5
}

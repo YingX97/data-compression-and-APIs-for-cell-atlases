{
 "cells": [
  {
   "cell_type": "code",
   "execution_count": 1,
   "id": "8edb2e4d",
   "metadata": {},
   "outputs": [],
   "source": [
    "import h5py\n",
    "import numpy as np\n",
    "import pandas as pd\n",
    "import scanpy as sc\n",
    "from scipy.cluster.hierarchy import linkage,leaves_list, dendrogram\n",
    "from scipy.spatial.distance import pdist, euclidean\n",
    "from scipy.special import comb\n",
    "import re"
   ]
  },
  {
   "cell_type": "code",
   "execution_count": 2,
   "id": "717f1625",
   "metadata": {},
   "outputs": [],
   "source": [
    "# gives the name of dataset we want as an input\n",
    "# celltype / celltype_dataset / celltype_dataset_timepoint\n",
    "def read_file(df_type):\n",
    "    with h5py.File('./output/condensed_lung_atlas_in_cpm.h5',\"r\") as h5_data:\n",
    "    \n",
    "        df = pd.DataFrame(\n",
    "                data=np.array(h5_data[df_type]['gene_expression_average']['block0_values']).astype(np.float32),\n",
    "                index=np.array(h5_data[df_type]['gene_expression_average']['axis1'].asstr()),\n",
    "                columns=np.array(h5_data[df_type]['gene_expression_average']['axis0'].asstr()),\n",
    "            ).T\n",
    "    return df"
   ]
  },
  {
   "cell_type": "code",
   "execution_count": 3,
   "id": "0f36dc34",
   "metadata": {},
   "outputs": [
    {
     "data": {
      "text/html": [
       "<div>\n",
       "<style scoped>\n",
       "    .dataframe tbody tr th:only-of-type {\n",
       "        vertical-align: middle;\n",
       "    }\n",
       "\n",
       "    .dataframe tbody tr th {\n",
       "        vertical-align: top;\n",
       "    }\n",
       "\n",
       "    .dataframe thead th {\n",
       "        text-align: right;\n",
       "    }\n",
       "</style>\n",
       "<table border=\"1\" class=\"dataframe\">\n",
       "  <thead>\n",
       "    <tr style=\"text-align: right;\">\n",
       "      <th></th>\n",
       "      <th>Adventitial fibroblast_ACZ_P21</th>\n",
       "      <th>Adventitial fibroblast_ACZ_P7</th>\n",
       "      <th>Adventitial fibroblast_Hurskainen2021_P14</th>\n",
       "      <th>Adventitial fibroblast_Hurskainen2021_P3</th>\n",
       "      <th>Adventitial fibroblast_Hurskainen2021_P7</th>\n",
       "      <th>Adventitial fibroblast_TMS_18m</th>\n",
       "      <th>Adventitial fibroblast_TMS_24m</th>\n",
       "      <th>Adventitial fibroblast_TMS_3m</th>\n",
       "      <th>Airway smooth muscle_ACZ_P21</th>\n",
       "      <th>Airway smooth muscle_Hurskainen2021_P14</th>\n",
       "      <th>...</th>\n",
       "      <th>neutrophil_ACZ_E18.5</th>\n",
       "      <th>neutrophil_ACZ_P1</th>\n",
       "      <th>neutrophil_ACZ_P21</th>\n",
       "      <th>neutrophil_ACZ_P7</th>\n",
       "      <th>neutrophil_Hurskainen2021_P14</th>\n",
       "      <th>neutrophil_Hurskainen2021_P3</th>\n",
       "      <th>neutrophil_Hurskainen2021_P7</th>\n",
       "      <th>neutrophil_TMS_18m</th>\n",
       "      <th>neutrophil_TMS_24m</th>\n",
       "      <th>neutrophil_TMS_3m</th>\n",
       "    </tr>\n",
       "  </thead>\n",
       "  <tbody>\n",
       "    <tr>\n",
       "      <th>Car4</th>\n",
       "      <td>0.015945</td>\n",
       "      <td>0.0</td>\n",
       "      <td>7.019531</td>\n",
       "      <td>6.179688</td>\n",
       "      <td>9.023438</td>\n",
       "      <td>2.792969</td>\n",
       "      <td>13.703125</td>\n",
       "      <td>4.105469</td>\n",
       "      <td>0.0</td>\n",
       "      <td>14.140625</td>\n",
       "      <td>...</td>\n",
       "      <td>0.0</td>\n",
       "      <td>6.242188</td>\n",
       "      <td>0.056</td>\n",
       "      <td>26.359375</td>\n",
       "      <td>39.53125</td>\n",
       "      <td>25.859375</td>\n",
       "      <td>5.808594</td>\n",
       "      <td>8.78125</td>\n",
       "      <td>0.0</td>\n",
       "      <td>27.359375</td>\n",
       "    </tr>\n",
       "  </tbody>\n",
       "</table>\n",
       "<p>1 rows × 308 columns</p>\n",
       "</div>"
      ],
      "text/plain": [
       "      Adventitial fibroblast_ACZ_P21  Adventitial fibroblast_ACZ_P7  \\\n",
       "Car4                        0.015945                            0.0   \n",
       "\n",
       "      Adventitial fibroblast_Hurskainen2021_P14  \\\n",
       "Car4                                   7.019531   \n",
       "\n",
       "      Adventitial fibroblast_Hurskainen2021_P3  \\\n",
       "Car4                                  6.179688   \n",
       "\n",
       "      Adventitial fibroblast_Hurskainen2021_P7  \\\n",
       "Car4                                  9.023438   \n",
       "\n",
       "      Adventitial fibroblast_TMS_18m  Adventitial fibroblast_TMS_24m  \\\n",
       "Car4                        2.792969                       13.703125   \n",
       "\n",
       "      Adventitial fibroblast_TMS_3m  Airway smooth muscle_ACZ_P21  \\\n",
       "Car4                       4.105469                           0.0   \n",
       "\n",
       "      Airway smooth muscle_Hurskainen2021_P14  ...  neutrophil_ACZ_E18.5  \\\n",
       "Car4                                14.140625  ...                   0.0   \n",
       "\n",
       "      neutrophil_ACZ_P1  neutrophil_ACZ_P21  neutrophil_ACZ_P7  \\\n",
       "Car4           6.242188               0.056          26.359375   \n",
       "\n",
       "      neutrophil_Hurskainen2021_P14  neutrophil_Hurskainen2021_P3  \\\n",
       "Car4                       39.53125                     25.859375   \n",
       "\n",
       "      neutrophil_Hurskainen2021_P7  neutrophil_TMS_18m  neutrophil_TMS_24m  \\\n",
       "Car4                      5.808594             8.78125                 0.0   \n",
       "\n",
       "      neutrophil_TMS_3m  \n",
       "Car4          27.359375  \n",
       "\n",
       "[1 rows x 308 columns]"
      ]
     },
     "execution_count": 3,
     "metadata": {},
     "output_type": "execute_result"
    }
   ],
   "source": [
    "df = read_file('celltype_dataset_timepoint')\n",
    "gene = 'Car4'\n",
    "filtered_df = df.filter(items=[gene],axis=0)\n",
    "filtered_df"
   ]
  },
  {
   "cell_type": "code",
   "execution_count": 7,
   "id": "203ec0e4",
   "metadata": {},
   "outputs": [],
   "source": [
    "all_celltypes = []\n",
    "dt_combinations = []  # dataset and timepoint combinations\n",
    "\n",
    "for column_name in filtered_df.columns:\n",
    "    celltype = column_name.split(\"_\")[0]\n",
    "    dataset_timepoint = column_name.split(celltype+\"_\")[1]\n",
    "    if celltype not in all_celltypes:\n",
    "        all_celltypes.append(celltype)\n",
    "    if dataset_timepoint not in dt_combinations:\n",
    "        dt_combinations.append(dataset_timepoint)"
   ]
  },
  {
   "cell_type": "code",
   "execution_count": 8,
   "id": "5da9b656",
   "metadata": {},
   "outputs": [
    {
     "data": {
      "text/plain": [
       "['ACZ_P21',\n",
       " 'ACZ_P7',\n",
       " 'Hurskainen2021_P14',\n",
       " 'Hurskainen2021_P3',\n",
       " 'Hurskainen2021_P7',\n",
       " 'TMS_18m',\n",
       " 'TMS_24m',\n",
       " 'TMS_3m',\n",
       " 'ACZ_E18.5',\n",
       " 'ACZ_P1']"
      ]
     },
     "execution_count": 8,
     "metadata": {},
     "output_type": "execute_result"
    }
   ],
   "source": [
    "all_celltypes\n",
    "dt_combinations"
   ]
  },
  {
   "cell_type": "code",
   "execution_count": 28,
   "id": "812893d3",
   "metadata": {},
   "outputs": [
    {
     "ename": "KeyError",
     "evalue": "'ACZ_P21'",
     "output_type": "error",
     "traceback": [
      "\u001b[0;31m---------------------------------------------------------------------------\u001b[0m",
      "\u001b[0;31mKeyError\u001b[0m                                  Traceback (most recent call last)",
      "Input \u001b[0;32mIn [28]\u001b[0m, in \u001b[0;36m<cell line: 2>\u001b[0;34m()\u001b[0m\n\u001b[1;32m      3\u001b[0m \u001b[38;5;28;01mfor\u001b[39;00m ct \u001b[38;5;129;01min\u001b[39;00m all_celltypes:\n\u001b[1;32m      4\u001b[0m     name \u001b[38;5;241m=\u001b[39m \u001b[38;5;124m\"\u001b[39m\u001b[38;5;124m_\u001b[39m\u001b[38;5;124m\"\u001b[39m\u001b[38;5;241m.\u001b[39mjoin([ct,dt])\n\u001b[0;32m----> 5\u001b[0m     \u001b[43mexpression_dic\u001b[49m\u001b[43m[\u001b[49m\u001b[43mdt\u001b[49m\u001b[43m]\u001b[49m[ct] \u001b[38;5;241m=\u001b[39m filtered_df[name]\u001b[38;5;241m.\u001b[39mvalues[\u001b[38;5;241m0\u001b[39m]\n",
      "\u001b[0;31mKeyError\u001b[0m: 'ACZ_P21'"
     ]
    }
   ],
   "source": [
    "expression = {}\n",
    "for dt in dt_combinations:\n",
    "    expression[dt] = {}\n",
    "    for ct in all_celltypes:\n",
    "        name = \"_\".join([ct,dt])\n",
    "        expression_dic[dt][ct] = filtered_df[name].values[0]"
   ]
  },
  {
   "cell_type": "code",
   "execution_count": 26,
   "id": "8ad6a086",
   "metadata": {},
   "outputs": [
    {
     "data": {
      "text/plain": [
       "'P21_B cell'"
      ]
     },
     "execution_count": 26,
     "metadata": {},
     "output_type": "execute_result"
    }
   ],
   "source": [
    "dt = \"P21\"\n",
    "ct = \"B cell\"\n",
    "\"_\".join([dt,ct])"
   ]
  },
  {
   "cell_type": "code",
   "execution_count": null,
   "id": "4a643883",
   "metadata": {},
   "outputs": [],
   "source": []
  }
 ],
 "metadata": {
  "kernelspec": {
   "display_name": "Python 3",
   "language": "python",
   "name": "python3"
  },
  "language_info": {
   "codemirror_mode": {
    "name": "ipython",
    "version": 3
   },
   "file_extension": ".py",
   "mimetype": "text/x-python",
   "name": "python",
   "nbconvert_exporter": "python",
   "pygments_lexer": "ipython3",
   "version": "3.8.13"
  }
 },
 "nbformat": 4,
 "nbformat_minor": 5
}
